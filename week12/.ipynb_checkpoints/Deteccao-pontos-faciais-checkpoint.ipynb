{
 "cells": [
  {
   "cell_type": "code",
   "execution_count": 1,
   "metadata": {
    "collapsed": true
   },
   "outputs": [],
   "source": [
    "import torch\n",
    "import torch.nn\n",
    "import torch.nn.functional as F\n",
    "import torch.optim as optim\n",
    "\n",
    "from torch.autograd import Variable\n",
    "\n",
    "import numpy as np\n",
    "import csv"
   ]
  },
  {
   "cell_type": "code",
   "execution_count": 17,
   "metadata": {
    "collapsed": true
   },
   "outputs": [],
   "source": [
    "# Hyper parameters\n",
    "VALIDATION_SPLIT_RATIO = 0.2\n",
    "EPOCHS = 2\n",
    "BATCH_SIZE = 40\n",
    "LOG_INTERVAL = 10"
   ]
  },
  {
   "cell_type": "code",
   "execution_count": 3,
   "metadata": {},
   "outputs": [
    {
     "name": "stdout",
     "output_type": "stream",
     "text": [
      "Number of images in the entire dataset: 7049\n"
     ]
    }
   ],
   "source": [
    "# Load the data\n",
    "target = []\n",
    "images = []\n",
    "with open(\"training.csv\") as csvfile:\n",
    "    reader = csv.reader(csvfile)\n",
    "    first_line = True\n",
    "    for line in reader:\n",
    "        if first_line == True:\n",
    "            first_line = False\n",
    "            continue\n",
    "        target.append(np.array([float(x) if x!=\"\" else 0 for x in line[:-1]]))\n",
    "        images.append(np.array([int(x) for x in line[-1].split(\" \")]).reshape(1,96,96))\n",
    "        \n",
    "y = np.array(target,dtype=\"float\")\n",
    "X = np.array(images,dtype=\"float\")\n",
    "\n",
    "n_images = X.shape[0]\n",
    "\n",
    "print(\"Number of images in the entire dataset: %s\" % n_images)"
   ]
  },
  {
   "cell_type": "code",
   "execution_count": 4,
   "metadata": {},
   "outputs": [
    {
     "name": "stdout",
     "output_type": "stream",
     "text": [
      "Shape of X_train:\n",
      "(5639, 1, 96, 96)\n",
      "Shape of y_train:\n",
      "(5639, 30)\n",
      "Number of images in the training dataset: 5639\n",
      "Number of images in the validation dataset: 1410\n"
     ]
    }
   ],
   "source": [
    "# Split the data for validation\n",
    "X_train = X[:int((1-VALIDATION_SPLIT_RATIO)*n_images)]/255. - 0.5\n",
    "y_train = y[:int((1-VALIDATION_SPLIT_RATIO)*n_images)]\n",
    "X_val = X[int((1-VALIDATION_SPLIT_RATIO)*n_images):]/255. - 0.5\n",
    "y_val = y[int((1-VALIDATION_SPLIT_RATIO)*n_images):]\n",
    "\n",
    "n_train = X_train.shape[0]\n",
    "n_val = X_val.shape[0]\n",
    "\n",
    "print(\"Shape of X_train:\")\n",
    "print(X_train.shape)\n",
    "print(\"Shape of y_train:\")\n",
    "print(y_train.shape)\n",
    "print(\"Number of images in the training dataset: %s\" % n_train)\n",
    "print(\"Number of images in the validation dataset: %s\" % n_val)\n"
   ]
  },
  {
   "cell_type": "code",
   "execution_count": 5,
   "metadata": {
    "collapsed": true
   },
   "outputs": [],
   "source": [
    "# Create Dataloaders\n",
    "import torch.utils.data\n",
    "\n",
    "train_dataset = torch.utils.data.TensorDataset(torch.from_numpy(X_train.astype('float32')).type(torch.FloatTensor),  \\\n",
    "                                               torch.from_numpy(y_train.astype('float32')).type(torch.FloatTensor))\n",
    "val_dataset = torch.utils.data.TensorDataset(torch.from_numpy(X_val.astype('float32')).type(torch.FloatTensor), \\\n",
    "                                             torch.from_numpy(y_val.astype('float32')).type(torch.FloatTensor))\n",
    "\n",
    "train_loader = torch.utils.data.DataLoader(train_dataset,batch_size=BATCH_SIZE)\n",
    "val_loader = torch.utils.data.DataLoader(val_dataset,batch_size=BATCH_SIZE)"
   ]
  },
  {
   "cell_type": "code",
   "execution_count": 6,
   "metadata": {
    "collapsed": true
   },
   "outputs": [],
   "source": [
    "class Net(torch.nn.Module):\n",
    "    \n",
    "    def __init__(self):\n",
    "        super(Net, self).__init__()\n",
    "        self.conv1 = torch.nn.Conv2d(1, 24, 5)\n",
    "        self.MPool = torch.nn.MaxPool2d(2, stride=(2,2))\n",
    "        self.conv2 = torch.nn.Conv2d(24, 36, 5)\n",
    "        self.conv3 = torch.nn.Conv2d(36, 48, 5)\n",
    "        self.conv4 = torch.nn.Conv2d(48, 64, 3)\n",
    "        self.conv5 = torch.nn.Conv2d(64, 64, 3)\n",
    "        self.conv2_drop = torch.nn.Dropout2d()\n",
    "        self.fc1 = torch.nn.Linear(64, 500)\n",
    "        self.fc2 = torch.nn.Linear(500, 90)\n",
    "        self.fc3 = torch.nn.Linear(90, 30)\n",
    "        \n",
    "    def forward(self, x):\n",
    "        x = F.relu(self.conv1(x))\n",
    "        x = self.MPool(x)\n",
    "        x = F.relu(self.conv2(x))\n",
    "        x = self.MPool(x)\n",
    "        x = F.relu(self.conv3(x))\n",
    "        x = self.MPool(x)\n",
    "        x = F.relu(self.conv4(x))\n",
    "        x = self.MPool(x)\n",
    "        x = F.relu(self.conv5(x))\n",
    "        x = x.view(x.size(0), -1)\n",
    "        x = self.conv2_drop(F.relu(self.fc1(x)))\n",
    "        x = self.conv2_drop(F.relu(self.fc2(x)))\n",
    "        x = self.fc3(x)\n",
    "        return x\n",
    "        "
   ]
  },
  {
   "cell_type": "code",
   "execution_count": 18,
   "metadata": {
    "collapsed": true
   },
   "outputs": [],
   "source": [
    "model = Net()\n",
    "optimizer = optim.RMSprop(model.parameters(),lr=0.00001)\n",
    "optimizer = optim.Adam(model.parameters(),lr=0.01)\n",
    "MSELoss = torch.nn.MSELoss()"
   ]
  },
  {
   "cell_type": "code",
   "execution_count": 15,
   "metadata": {
    "collapsed": true
   },
   "outputs": [],
   "source": [
    "def train(epoch):\n",
    "    model.train()\n",
    "    for batch_idx, (batch_data, batch_target) in enumerate(train_loader):\n",
    "        batch_data, batch_target = Variable(batch_data.float()), Variable(batch_target.float())\n",
    "        optimizer.zero_grad()\n",
    "        output = model(batch_data)\n",
    "        #loss = F.nll_loss(output, batch_target)\n",
    "        loss = MSELoss(output, batch_target)\n",
    "        loss.backward()\n",
    "        optimizer.step()\n",
    "        #if batch_idx % LOG_INTERVAL == 0:\n",
    "    print('Train Epoch: {} [{}/{} ({:.0f}%)]\\tLoss: {:.6f}'.format(\n",
    "                epoch, batch_idx * len(batch_data), len(train_loader.dataset),\n",
    "                100. * batch_idx / len(train_loader), loss.data[0]))\n",
    "            \n",
    "def test():\n",
    "    model.eval()\n",
    "    test_loss = 0\n",
    "    ammount = 0\n",
    "    for data, target in val_loader:\n",
    "        data, target = Variable(data.float(), volatile=True), Variable(target.float())\n",
    "        output = model(data)\n",
    "        ammount += len(data)\n",
    "        test_loss += MSELoss(output, target).data[0]\n",
    "        \n",
    "    test_loss /= ammount\n",
    "    print('Test set: Average loss: %s\\n' % test_loss)\n",
    "    "
   ]
  },
  {
   "cell_type": "code",
   "execution_count": 19,
   "metadata": {},
   "outputs": [
    {
     "name": "stdout",
     "output_type": "stream",
     "text": [
      "Train Epoch: 1 [5460/5639 (99%)]\tLoss: 46.306877\n",
      "Test set: Average loss: 0.28740975738417174\n",
      "\n",
      "Train Epoch: 2 [5460/5639 (99%)]\tLoss: 51.194416\n",
      "Test set: Average loss: 0.2933779425654851\n",
      "\n"
     ]
    }
   ],
   "source": [
    "for epoch in range(1, EPOCHS + 1):\n",
    "    train(epoch)\n",
    "    test()"
   ]
  },
  {
   "cell_type": "code",
   "execution_count": null,
   "metadata": {
    "collapsed": true,
    "scrolled": true
   },
   "outputs": [],
   "source": []
  }
 ],
 "metadata": {
  "kernelspec": {
   "display_name": "Python 3",
   "language": "python",
   "name": "python3"
  },
  "language_info": {
   "codemirror_mode": {
    "name": "ipython",
    "version": 3
   },
   "file_extension": ".py",
   "mimetype": "text/x-python",
   "name": "python",
   "nbconvert_exporter": "python",
   "pygments_lexer": "ipython3",
   "version": "3.6.0"
  }
 },
 "nbformat": 4,
 "nbformat_minor": 2
}
