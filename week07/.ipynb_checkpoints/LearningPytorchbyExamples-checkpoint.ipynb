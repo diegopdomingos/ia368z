{
 "cells": [
  {
   "cell_type": "markdown",
   "metadata": {},
   "source": [
    "# Learning Pytorch by Examples"
   ]
  },
  {
   "cell_type": "markdown",
   "metadata": {},
   "source": [
    "## Estes 3 primeiros exemplos mostram as partes principais da infraestrutura do Pytorch:\n",
    "- Tensores do Pytorch\n",
    "- Habilidade dos Tensores poderem calcular o gradiente de uma função automaticamente\n",
    "- Existe uma terceira infraestrutura que não aparece aqui, mas é a facilidade dos Tensores poderem ser processados na GPU."
   ]
  },
  {
   "cell_type": "markdown",
   "metadata": {},
   "source": [
    "- [two_layer_net_numpy.ipynb](two_layer_net_numpy.ipynb)\n",
    "    - Programação pura NumPy rede duas camadas com relu e gradiente por backpropagation\n",
    "- [two_layer_net_tensor.ipynb](two_layer_net_tensor.ipynb)\n",
    "    - Igual exemplo anterior, trocando os arrays por tensores do Pytorch\n",
    "- [two_layer_net_autograd.ipynb](two_layer_net_autograd.ipynb)\n",
    "    - Igual ao anterior, porém agora usando o gradiente automático do Pytorch"
   ]
  },
  {
   "cell_type": "markdown",
   "metadata": {},
   "source": [
    "## Esses exemplo são mais elaborados"
   ]
  },
  {
   "cell_type": "markdown",
   "metadata": {},
   "source": [
    "Estes exemplos mostram o uso de funções de perda customizadas, comparação com tensorflow, uso do pacote nn que facilita a definição da rede, os otimizadores do gradiente descendente, o uso de um módulo para definir uma arquitetura de rede customizada e por fim uma rede de arquitetura dinâmica."
   ]
  },
  {
   "cell_type": "markdown",
   "metadata": {
    "ExecuteTime": {
     "end_time": "2017-09-13T22:10:35.831770Z",
     "start_time": "2017-09-13T22:10:35.536039Z"
    }
   },
   "source": [
    "- [two_layer_net_custom_function.ipynb](two_layer_net_custom_function.ipynb)\n",
    "    - Autograd utilizando função perda customizada\n",
    "- [tf_two_layer_net.ipynb](tf_two_layer_net.ipynb)\n",
    "    - Exemplo da rede utilizando a programação no TensorFlow\n",
    "- [two_layer_net_nn.ipynb](two_layer_net_nn.ipynb)\n",
    "    - Exemplo agora utilizando o pacote nn que facilita a definição da rede neural\n",
    "- [two_layer_net_optim.ipynb](two_layer_net_optim.ipynb)\n",
    "    - Exemplo utilizando otimizadores do gradiente descendente\n",
    "- [two_layer_net_module.ipynb](two_layer_net_module.ipynb)\n",
    "    - Exemplo utilizando uma arquitetura de rede customizada\n",
    "- [dynamic_net.ipynb](dynamic_net.ipynb)\n",
    "    - Exemplo utilizando uma rede dinâmica, parecida com um dropout de camada"
   ]
  },
  {
   "cell_type": "code",
   "execution_count": null,
   "metadata": {
    "collapsed": true
   },
   "outputs": [],
   "source": []
  }
 ],
 "metadata": {
  "kernelspec": {
   "display_name": "Python 3",
   "language": "python",
   "name": "python3"
  },
  "language_info": {
   "codemirror_mode": {
    "name": "ipython",
    "version": 3
   },
   "file_extension": ".py",
   "mimetype": "text/x-python",
   "name": "python",
   "nbconvert_exporter": "python",
   "pygments_lexer": "ipython3",
   "version": "3.6.0"
  },
  "toc": {
   "colors": {
    "hover_highlight": "#DAA520",
    "running_highlight": "#FF0000",
    "selected_highlight": "#FFD700"
   },
   "moveMenuLeft": true,
   "nav_menu": {
    "height": "30px",
    "width": "252px"
   },
   "navigate_menu": true,
   "number_sections": true,
   "sideBar": true,
   "threshold": 4,
   "toc_cell": false,
   "toc_section_display": "block",
   "toc_window_display": false,
   "widenNotebook": false
  }
 },
 "nbformat": 4,
 "nbformat_minor": 2
}
