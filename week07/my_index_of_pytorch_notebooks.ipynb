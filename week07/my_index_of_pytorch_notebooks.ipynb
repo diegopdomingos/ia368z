{
 "cells": [
  {
   "cell_type": "markdown",
   "metadata": {},
   "source": [
    "# Lista de notebooks do meu tutorial de Pytorch"
   ]
  },
  {
   "cell_type": "markdown",
   "metadata": {},
   "source": [
    "Estude os notebooks da [LearningPytorchbyExamples.ipynb](LearningPytorchbyExamples.ipynb) e desenvolva os notebooks iniciais feitos no curso:\n",
    "- regressão linear - estimar comprimento da pétala a partir do comprimento da sépala\n",
    "- exercícios de regressão linear com mini-batch gradiente descendente\n",
    "- regressão logística - 3 classes - Iris dataset\n",
    "- regressão logística - 10 classes - dígitos MNIST\n",
    "- rede com 1 ou mais camadas escondidas - 3 classes - Iris dataset\n",
    "\n",
    "Coloque aqui os links para os notebooks feitos assim como seus comentários"
   ]
  },
  {
   "cell_type": "markdown",
   "metadata": {
    "collapsed": true
   },
   "source": [
    "https://t-adessowiki.fee.unicamp.br/user/d090923/notebooks/ia368z_2s2017/d090923/week07/Linear%20Regression.ipynb"
   ]
  },
  {
   "cell_type": "markdown",
   "metadata": {},
   "source": [
    "https://t-adessowiki.fee.unicamp.br/user/d090923/notebooks/ia368z_2s2017/d090923/week07/Linear%20Regression-MiniBatch.ipynb"
   ]
  },
  {
   "cell_type": "markdown",
   "metadata": {},
   "source": [
    "https://t-adessowiki.fee.unicamp.br/user/d090923/notebooks/ia368z_2s2017/d090923/week07/MNIST.ipynb"
   ]
  },
  {
   "cell_type": "markdown",
   "metadata": {},
   "source": [
    "https://t-adessowiki.fee.unicamp.br/user/d090923/notebooks/ia368z_2s2017/d090923/week07/Iris-Logistic.ipynb"
   ]
  },
  {
   "cell_type": "markdown",
   "metadata": {},
   "source": [
    "https://t-adessowiki.fee.unicamp.br/user/d090923/notebooks/ia368z_2s2017/d090923/week07/Iris-NN.ipynb"
   ]
  },
  {
   "cell_type": "code",
   "execution_count": null,
   "metadata": {
    "collapsed": true
   },
   "outputs": [],
   "source": []
  }
 ],
 "metadata": {
  "kernelspec": {
   "display_name": "Python 3",
   "language": "python",
   "name": "python3"
  },
  "language_info": {
   "codemirror_mode": {
    "name": "ipython",
    "version": 3
   },
   "file_extension": ".py",
   "mimetype": "text/x-python",
   "name": "python",
   "nbconvert_exporter": "python",
   "pygments_lexer": "ipython3",
   "version": "3.6.0"
  }
 },
 "nbformat": 4,
 "nbformat_minor": 2
}
