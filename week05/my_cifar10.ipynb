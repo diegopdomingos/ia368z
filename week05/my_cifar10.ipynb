{
 "cells": [
  {
   "cell_type": "markdown",
   "metadata": {},
   "source": [
    "# Cifar10 - exercicio de classificar 3 classes"
   ]
  },
  {
   "cell_type": "markdown",
   "metadata": {},
   "source": [
    "Fazer classificação de 3 classes usando rede neural convolucional.\n",
    "Não utilizar o pacote sklearn. Apenas o Keras e o NumPy."
   ]
  },
  {
   "cell_type": "markdown",
   "metadata": {},
   "source": [
    "Não utilizar a função de acompanhamento de gráficos durante o treinamento.\n",
    "\n",
    "Gerar uma figura mosaic que contenha as 5 imagens de classificação correta de menor probabilidade de predição.\n",
    "\n",
    "Gerar esta figura com o nome: cifar_fig.png"
   ]
  },
  {
   "cell_type": "markdown",
   "metadata": {},
   "source": [
    "## Importação de bibliotecas"
   ]
  },
  {
   "cell_type": "code",
   "execution_count": 1,
   "metadata": {},
   "outputs": [
    {
     "name": "stderr",
     "output_type": "stream",
     "text": [
      "Using TensorFlow backend.\n"
     ]
    }
   ],
   "source": [
    "import numpy as np\n",
    "from keras.models import Sequential\n",
    "from keras.layers import Dense, Dropout, Activation, Flatten\n",
    "from keras.layers import Conv2D, MaxPooling2D\n",
    "from keras.preprocessing.image import ImageDataGenerator\n",
    "import keras\n",
    "from keras.callbacks import EarlyStopping\n",
    "import matplotlib.pyplot as plt\n",
    "%matplotlib inline"
   ]
  },
  {
   "cell_type": "markdown",
   "metadata": {},
   "source": [
    "## Carregamento do dataset"
   ]
  },
  {
   "cell_type": "code",
   "execution_count": 2,
   "metadata": {
    "collapsed": true
   },
   "outputs": [],
   "source": [
    "data = np.load('/etc/jupyterhub/ia368z_2s2017/datasets/cifar10-redux.npz')"
   ]
  },
  {
   "cell_type": "code",
   "execution_count": 3,
   "metadata": {
    "collapsed": true
   },
   "outputs": [],
   "source": [
    "X_train = data['X_train']\n",
    "y_train = data['y_train']\n",
    "X_test = data['X_test']\n",
    "y_test = data['y_test']"
   ]
  },
  {
   "cell_type": "code",
   "execution_count": 4,
   "metadata": {},
   "outputs": [
    {
     "data": {
      "text/plain": [
       "((2000, 3, 32, 32), (2000,), (500, 3, 32, 32), (500,))"
      ]
     },
     "execution_count": 4,
     "metadata": {},
     "output_type": "execute_result"
    }
   ],
   "source": [
    "X_train.shape, y_train.shape, X_test.shape, y_test.shape"
   ]
  },
  {
   "cell_type": "code",
   "execution_count": 5,
   "metadata": {},
   "outputs": [
    {
     "data": {
      "text/plain": [
       "(dtype('uint8'), dtype('uint8'), dtype('uint8'), dtype('int64'))"
      ]
     },
     "execution_count": 5,
     "metadata": {},
     "output_type": "execute_result"
    }
   ],
   "source": [
    "X_train.dtype, y_train.dtype, X_test.dtype, y_test.dtype"
   ]
  },
  {
   "cell_type": "code",
   "execution_count": 6,
   "metadata": {
    "collapsed": true
   },
   "outputs": [],
   "source": [
    "num_classes = 3\n",
    "y_train = keras.utils.to_categorical(y_train-3, num_classes)\n",
    "y_test_categorical = y_test-3\n",
    "y_test = keras.utils.to_categorical(y_test-3, num_classes)"
   ]
  },
  {
   "cell_type": "code",
   "execution_count": 7,
   "metadata": {
    "collapsed": true
   },
   "outputs": [],
   "source": [
    "def SmallCNN(nclasses,input_shape):\n",
    "    model = Sequential()\n",
    "    model.add(Conv2D(32, (3, 3), padding='same',input_shape=input_shape,data_format=\"channels_first\"))\n",
    "    model.add(Activation('relu'))\n",
    "    model.add(Conv2D(32, (3, 3)))\n",
    "    model.add(Activation('relu'))\n",
    "    model.add(MaxPooling2D(pool_size=(2, 2)))\n",
    "    #model.add(Dropout(0.25))\n",
    "\n",
    "    model.add(Conv2D(64, (3, 3), padding='same'))\n",
    "    model.add(Activation('relu'))\n",
    "    model.add(Conv2D(64, (3, 3)))\n",
    "    model.add(Activation('relu'))\n",
    "    model.add(MaxPooling2D(pool_size=(2, 2)))\n",
    "    model.add(Dropout(0.3))\n",
    "\n",
    "    model.add(Flatten())\n",
    "    model.add(Dense(150))\n",
    "    model.add(Activation('relu'))\n",
    "    model.add(Dropout(0.5))\n",
    "    model.add(Dense(nclasses))\n",
    "    model.add(Activation('softmax'))\n",
    "    return model\n",
    "\n",
    "def SmallCNN2(nclasses,input_shape):\n",
    "    model = Sequential()\n",
    "    model.add(Conv2D(32, (3, 3),input_shape=input_shape))\n",
    "    model.add(Activation('relu'))\n",
    "    model.add(Conv2D(64,(3,3),padding = 'same'))\n",
    "    model.add(Activation('relu'))\n",
    "\n",
    "    model.add(Conv2D(128,(3,3),padding = 'same'))\n",
    "    model.add(Activation('relu'))\n",
    "    model.add(MaxPooling2D(pool_size=(2,2)))\n",
    "    model.add(Dropout(0.3))\n",
    "\n",
    "    # Aqui os features deixam de ser imagens\n",
    "    model.add(Flatten())\n",
    "    model.add(Dense(150))\n",
    "    model.add(Activation('relu'))\n",
    "    model.add(Dropout(0.5))\n",
    "    model.add(Dense(nclasses))\n",
    "    model.add(Activation('softmax'))"
   ]
  },
  {
   "cell_type": "code",
   "execution_count": 8,
   "metadata": {
    "collapsed": true
   },
   "outputs": [],
   "source": [
    "# Main cell\n",
    "model = SmallCNN(3,(3, 32, 32))\n",
    "\n",
    "# initiate RMSprop optimizer\n",
    "opt = keras.optimizers.rmsprop(lr=0.0001, decay=1e-6)\n",
    "opt = keras.optimizers.Adam(lr=0.0001)\n",
    "# initiate the Early Stop callback\n",
    "callbacks = []\n",
    "callbacks.append(EarlyStopping(monitor='val_loss', min_delta=0, patience=0, verbose=0, mode='auto'))\n",
    "\n",
    "# Let's train the model using RMSprop\n",
    "model.compile(loss='categorical_crossentropy', optimizer=opt, metrics=['accuracy'])\n",
    "\n",
    "# Data normalization\n",
    "X_train = X_train.astype('float32')\n",
    "X_test = X_test.astype('float32')\n",
    "X_train /= 255.\n",
    "X_test /= 255.\n",
    "\n",
    "# Split the X_train to validation\n",
    "X_val = X_train[1500:]\n",
    "y_val = y_train[1500:]\n",
    "X_train = X_train[0:1499]\n",
    "y_train = y_train[0:1499]\n",
    "\n",
    "datagen = ImageDataGenerator(\n",
    "        featurewise_center=False,  # set input mean to 0 over the dataset\n",
    "        samplewise_center=False,  # set each sample mean to 0\n",
    "        featurewise_std_normalization=False,  # divide inputs by std of the dataset\n",
    "        samplewise_std_normalization=False,  # divide each input by its std\n",
    "        zca_whitening=False,  # apply ZCA whitening\n",
    "        rotation_range=0,  # randomly rotate images in the range (degrees, 0 to 180)\n",
    "        width_shift_range=0.1,  # randomly shift images horizontally (fraction of total width)\n",
    "        height_shift_range=0.1,  # randomly shift images vertically (fraction of total height)\n",
    "        horizontal_flip=True,  # randomly flip images\n",
    "        vertical_flip=False,data_format=\"channels_first\")  # randomly flip images\n",
    "\n",
    "datagen.fit(X_train)\n"
   ]
  },
  {
   "cell_type": "code",
   "execution_count": 9,
   "metadata": {},
   "outputs": [
    {
     "name": "stdout",
     "output_type": "stream",
     "text": [
      "Epoch 1/100\n",
      "46/46 [==============================] - 61s - loss: 1.0824 - acc: 0.3959 - val_loss: 1.0605 - val_acc: 0.4840\n",
      "Epoch 2/100\n",
      "46/46 [==============================] - 60s - loss: 1.0142 - acc: 0.5017 - val_loss: 0.9986 - val_acc: 0.5040\n",
      "Epoch 3/100\n",
      "46/46 [==============================] - 59s - loss: 0.9630 - acc: 0.5289 - val_loss: 0.9619 - val_acc: 0.5300\n",
      "Epoch 4/100\n",
      "46/46 [==============================] - 58s - loss: 0.9289 - acc: 0.5544 - val_loss: 0.9440 - val_acc: 0.5300\n",
      "Epoch 5/100\n",
      "46/46 [==============================] - 60s - loss: 0.9078 - acc: 0.5717 - val_loss: 0.9264 - val_acc: 0.5460\n",
      "Epoch 6/100\n",
      "46/46 [==============================] - 59s - loss: 0.8867 - acc: 0.5715 - val_loss: 0.9178 - val_acc: 0.5380\n",
      "Epoch 7/100\n",
      "46/46 [==============================] - 60s - loss: 0.8711 - acc: 0.5853 - val_loss: 0.9084 - val_acc: 0.5600\n",
      "Epoch 8/100\n",
      "46/46 [==============================] - 57s - loss: 0.8597 - acc: 0.5950 - val_loss: 0.9111 - val_acc: 0.5500\n"
     ]
    },
    {
     "data": {
      "text/plain": [
       "<keras.callbacks.History at 0x7f4f3fa24940>"
      ]
     },
     "execution_count": 9,
     "metadata": {},
     "output_type": "execute_result"
    }
   ],
   "source": [
    "#model.fit(X_train, y_train,batch_size=32,epochs=100,validation_data=(X_val, y_val),shuffle=True,callbacks=callbacks)\n",
    "model.fit_generator(datagen.flow(X_train, y_train,batch_size=250),\n",
    "                    steps_per_epoch=X_train.shape[0] // 32,\n",
    "                    epochs=100,\n",
    "                    validation_data=(X_test, y_test),callbacks=callbacks)"
   ]
  },
  {
   "cell_type": "code",
   "execution_count": 177,
   "metadata": {},
   "outputs": [
    {
     "name": "stdout",
     "output_type": "stream",
     "text": [
      "500/500 [==============================] - 0s     \n",
      "0.526000000477\n"
     ]
    }
   ],
   "source": [
    "# Run the model in X_test\n",
    "evaluation = model.evaluate(X_test,y_test)\n",
    "print(evaluation[1])"
   ]
  },
  {
   "cell_type": "code",
   "execution_count": 178,
   "metadata": {},
   "outputs": [
    {
     "name": "stdout",
     "output_type": "stream",
     "text": [
      "480/500 [===========================>..] - ETA: 0s"
     ]
    }
   ],
   "source": [
    "# Check for the correct classifications and with less prediction probability\n",
    "prediction = model.predict(X_test)\n",
    "prediction_proba = model.predict_proba(X_test)"
   ]
  },
  {
   "cell_type": "code",
   "execution_count": 179,
   "metadata": {
    "collapsed": true
   },
   "outputs": [],
   "source": [
    "#correct_0 = np.logical_and((prediction[:,0]==1),(y_test[:,0]==1))\n",
    "#correct_1 = np.logical_and((prediction[:,1]==1),(y_test[:,1]==1))\n",
    "#correct_2 = np.logical_and((prediction[:,2]==1),(y_test[:,2]==1))"
   ]
  },
  {
   "cell_type": "code",
   "execution_count": 180,
   "metadata": {
    "collapsed": true
   },
   "outputs": [],
   "source": [
    "prediction_class_index = []\n",
    "prediction_correct = (np.argmax(prediction,axis=1)==y_test_categorical)\n",
    "for i in range(len(prediction_correct)):\n",
    "    if prediction_correct[i]:\n",
    "        prediction_class_index.append((prediction_proba[i].max(),i))\n"
   ]
  },
  {
   "cell_type": "code",
   "execution_count": 181,
   "metadata": {
    "collapsed": true
   },
   "outputs": [],
   "source": [
    "dtype=np.dtype([('prob',float),('index',int)])\n",
    "less_prob_predictions = np.sort(np.array(prediction_class_index,dtype=dtype),order=\"prob\")[0:5]"
   ]
  },
  {
   "cell_type": "code",
   "execution_count": 182,
   "metadata": {},
   "outputs": [
    {
     "data": {
      "image/png": "[encoded data removed]",
      "text/plain": [
       "<matplotlib.figure.Figure at 0x7effc755da90>"
      ]
     },
     "metadata": {},
     "output_type": "display_data"
    }
   ],
   "source": [
    "for i in range(5):\n",
    "    idx = less_prob_predictions[i][1]\n",
    "    prob = less_prob_predictions[i][0]\n",
    "    plt.subplot(1, 5, i + 1)\n",
    "    plt.imshow(X_test[idx].transpose((1,2,0)))\n",
    "    plt.title('{}:{}:{:0.3f}'.format(y_test_categorical[idx],np.argmax(prediction,axis=1)[idx],prob))\n",
    "    plt.axis('off')\n",
    "plt.savefig('cifar_fig.png')"
   ]
  },
  {
   "cell_type": "code",
   "execution_count": null,
   "metadata": {
    "collapsed": true
   },
   "outputs": [],
   "source": []
  },
  {
   "cell_type": "code",
   "execution_count": null,
   "metadata": {
    "collapsed": true
   },
   "outputs": [],
   "source": []
  }
 ],
 "metadata": {
  "kernelspec": {
   "display_name": "Python 3",
   "language": "python",
   "name": "python3"
  },
  "language_info": {
   "codemirror_mode": {
    "name": "ipython",
    "version": 3
   },
   "file_extension": ".py",
   "mimetype": "text/x-python",
   "name": "python",
   "nbconvert_exporter": "python",
   "pygments_lexer": "ipython3",
   "version": "3.6.0"
  }
 },
 "nbformat": 4,
 "nbformat_minor": 2
}
