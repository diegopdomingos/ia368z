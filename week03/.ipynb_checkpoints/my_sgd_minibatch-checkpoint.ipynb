{
 "cells": [
  {
   "cell_type": "markdown",
   "metadata": {
    "deletable": true,
    "editable": true
   },
   "source": [
    "# Implementar o batch gradient descent"
   ]
  },
  {
   "cell_type": "markdown",
   "metadata": {
    "deletable": true,
    "editable": true
   },
   "source": [
    "Desenvolva aqui o seu código para realizar o *batch gradient descent* a partir dos códigos [Gradiente Descendente por Lote](#gdl) (batch) e [Gradiente Descendente Estocástico](#gde), que fazem parte do notebook <a \"href=https://t-adessowiki.fee.unicamp.br/user/lrittner/notebooks/ia368z_2s2017/aluno/week03/Regressao-Linear.ipynb\">Regressao-Linear.ipynb</a>. A ideia é que o tamanho do lote possa assumir qualquer valor entre 1 e o número total de amostras. "
   ]
  },
  {
   "cell_type": "markdown",
   "metadata": {
    "deletable": true,
    "editable": true
   },
   "source": [
    "## Entrega do exercício\n",
    "\n",
    "A entrega do exercício consiste do notebook com o seu código e a [figura salva conforme código abaixo](#figura). A figura deve ser composta por 3 plotagens do erro ao longo das iterações considerando um tam_lote = 1, tam_lote = T e tam_lote = num_amostras. Escolha T de tal forma que num_amostras/T não seja inteiro.\n",
    "\n",
    "**Não altere o nome do notebook, o nome da figura salva, nem as dimensões da figura e o arranjo do subplot, pois estes parâmetros são necessários para facilitar a correção.**"
   ]
  },
  {
   "cell_type": "code",
   "execution_count": 4,
   "metadata": {
    "collapsed": true,
    "deletable": true,
    "editable": true
   },
   "outputs": [],
   "source": [
    "%matplotlib inline\n",
    "import matplotlib.pyplot as plt\n",
    "import pandas as pd\n",
    "import numpy as np\n",
    "from sklearn.datasets import load_iris"
   ]
  },
  {
   "cell_type": "code",
   "execution_count": 19,
   "metadata": {
    "collapsed": true
   },
   "outputs": [],
   "source": [
    "def mini_batch_gradient_descent(X, y, w_init,b=20, lr=0.01, n_epochs=1000):\n",
    "    '''\n",
    "    Perform mini batch gradient descent to learn w\n",
    "    by taking n_epochs gradient steps with learning\n",
    "    rate lr\n",
    "    Dados rotulados: X.shape:(M,2) e y.shape:(M,1)\n",
    "    Parâmetro inicial: w_init.shape:(1,2)\n",
    "    output: w_history:(num_epochs+1,2)\n",
    "    '''\n",
    "    M = y.size\n",
    "    w_history = np.zeros((2,n_epochs+1))\n",
    "    wT = w_init.T\n",
    "    w_history[:,0] = wT[:,0]\n",
    "\n",
    "    for i in range(n_epochs):\n",
    "        j = np.random.randint(M,size=b)\n",
    "        wT = wT - lr * (2.0 / b) * (X[j].T).dot(X[j].dot(wT) - y[j])\n",
    "        w_history[:,i+1]=wT[:,0]\n",
    "    return w_history.T\n",
    "\n",
    "def compute_cost(X_b, y, wT):\n",
    "    '''\n",
    "    Compute cost for linear regression\n",
    "    (X,y): amostras rotuladas X(n_samples,2) e y(n_samples,)\n",
    "    wT: vetor coluna de parâmetros (já transposto)\n",
    "       aceita tanto shape (2,1) Para um caso como (2,n_history) para n_history casos\n",
    "    '''\n",
    "    e = X_b.dot(wT) - y\n",
    "    J = (e * e).mean(axis=0)\n",
    "    return J"
   ]
  },
  {
   "cell_type": "code",
   "execution_count": 23,
   "metadata": {
    "collapsed": false
   },
   "outputs": [
    {
     "data": {
      "text/plain": [
       "array([ 18.364     ,   1.83023485,   0.20452641, ...,   0.10161779,\n",
       "         0.10178801,   0.10344992])"
      ]
     },
     "execution_count": 23,
     "metadata": {},
     "output_type": "execute_result"
    }
   ],
   "source": [
    "# Load iris dataset\n",
    "iris = load_iris()\n",
    "\n",
    "data = iris.data[iris.target==1,::2]  # comprimento das sépalas e pétalas, indices 0 e 2\n",
    "\n",
    "# Load X_b and y sets\n",
    "X_b = data[:,0:1]\n",
    "y = data[:,1:2]\n",
    "\n",
    "# We must concatenate the X_b with ones column to match the\n",
    "# multiplicator factor of wT[0]\n",
    "X_b = np.concatenate((np.ones((X_b.shape[0],1)),X_b),axis=1)\n",
    "\n",
    "w_init = np.zeros((1,2))\n",
    "\n",
    "# Stochastic\n",
    "w = mini_batch_gradient_descent(X_b, y, w_init,b=1, lr=0.01, n_epochs=1000)\n",
    "J_history_stochastic = compute_cost(X_b,y,w.T)\n",
    "\n",
    "# Mini-batch (b=20)\n",
    "w = mini_batch_gradient_descent(X_b, y, w_init,b=20, lr=0.01, n_epochs=1000)\n",
    "J_history_stochastic = compute_cost(X_b,y,w.T)\n",
    "\n",
    "# Stochastic\n",
    "w = mini_batch_gradient_descent(X_b, y, w_init,b=y.size, lr=0.01, n_epochs=1000)\n",
    "J_history_stochastic = compute_cost(X_b,y,w.T)"
   ]
  },
  {
   "cell_type": "markdown",
   "metadata": {
    "deletable": true,
    "editable": true
   },
   "source": [
    "### Gerando a figura para correção automática\n",
    "\n",
    "<a id='figura'></a>"
   ]
  },
  {
   "cell_type": "code",
   "execution_count": 6,
   "metadata": {
    "collapsed": false,
    "deletable": true,
    "editable": true
   },
   "outputs": [
    {
     "data": {
      "image/png": "[encoded data removed]",
      "text/plain": [
       "<matplotlib.figure.Figure at 0x7fe62aa92be0>"
      ]
     },
     "metadata": {},
     "output_type": "display_data"
    }
   ],
   "source": [
    "fig = plt.figure(figsize=(20,5))\n",
    "plt.suptitle('Visualizacão do erro')\n",
    "\n",
    "ax = fig.add_subplot(131)\n",
    "plt.title(\"Batch size 1\")\n",
    "ax.plot(J_history_stochastic)\n",
    "\n",
    "ay = fig.add_subplot(132)\n",
    "plt.title(\"Batch size T\")\n",
    "#ay.plot(J_history)\n",
    "\n",
    "az = fig.add_subplot(133)\n",
    "plt.title(\"Batch size num_amostras\")\n",
    "#az.plot(J_history)\n",
    "\n",
    "plt.savefig('my_sgd_minibatch.png')"
   ]
  },
  {
   "cell_type": "markdown",
   "metadata": {
    "deletable": true,
    "editable": true
   },
   "source": [
    "### Gradiente Descendente por Lote (*batch*)\n",
    "\n",
    "<a id='gdl'></a>"
   ]
  },
  {
   "cell_type": "code",
   "execution_count": 1,
   "metadata": {
    "collapsed": true,
    "deletable": true,
    "editable": true
   },
   "outputs": [],
   "source": [
    "def batch_gradient_descent(X, y, w_init, lr, n_epochs):\n",
    "    '''\n",
    "    Perform batch gradient descent to learn w\n",
    "    by taking n_epochs gradient steps with learning\n",
    "    rate lr\n",
    "    Dados rotulados: X.shape:(M,2) e y.shape:(M,1)\n",
    "    Parâmetro inicial: w_init.shape:(1,2)\n",
    "    output: w_history:(num_epochs+1,2)\n",
    "    '''\n",
    "    M = y.size\n",
    "    w_history = np.zeros((2,n_epochs+1))\n",
    "    wT = w_init.T\n",
    "    w_history[:,0] = wT[:,0]\n",
    "\n",
    "    for i in range(n_epochs):\n",
    "        wT = wT - lr * (2.0 / M) * (X.T).dot(X.dot(wT) - y)\n",
    "        w_history[:,i+1]=wT[:,0]\n",
    "    return w_history.T"
   ]
  },
  {
   "cell_type": "markdown",
   "metadata": {
    "deletable": true,
    "editable": true
   },
   "source": [
    "### Gradiente Descendente Estocástico\n",
    "\n",
    "<a id='gde'></a>"
   ]
  },
  {
   "cell_type": "code",
   "execution_count": 2,
   "metadata": {
    "collapsed": true,
    "deletable": true,
    "editable": true
   },
   "outputs": [],
   "source": [
    "def stochastic_gradient_descent(X, y, w_init, lr, n_epochs):\n",
    "    '''\n",
    "    Perform stochastic gradient descent to learn w\n",
    "    by taking n_epochs times number of samples \n",
    "    gradient steps with learning rate lr\n",
    "    Dados rotulados: X.shape:(M,2) e y.shape:(M,1)\n",
    "    Parâmetro inicial: w_init.shape:(1,2)\n",
    "    output: w_history:(num_epochs+1,2)\n",
    "    '''\n",
    "    M = y.size\n",
    "    w_history = np.zeros((2,(M*n_epochs)+1))\n",
    "    wT = w_init.T\n",
    "    w_history[:,0] = wT[:,0]\n",
    "\n",
    "    for i in range(n_epochs):\n",
    "        for jj in range(M):\n",
    "            j = np.random.randint(M)\n",
    "            wT = wT - lr * 2.0 * (X[j:j+1,:].T).dot(X[j:j+1,:].dot(wT) - y[j:j+1])\n",
    "            w_history[:,jj+(i*M)+1] = wT[:,0]\n",
    "    return w_history.T"
   ]
  },
  {
   "cell_type": "code",
   "execution_count": null,
   "metadata": {
    "collapsed": true,
    "deletable": true,
    "editable": true
   },
   "outputs": [],
   "source": []
  }
 ],
 "metadata": {
  "kernelspec": {
   "display_name": "Python 3",
   "language": "python",
   "name": "python3"
  },
  "language_info": {
   "codemirror_mode": {
    "name": "ipython",
    "version": 3
   },
   "file_extension": ".py",
   "mimetype": "text/x-python",
   "name": "python",
   "nbconvert_exporter": "python",
   "pygments_lexer": "ipython3",
   "version": "3.6.0"
  }
 },
 "nbformat": 4,
 "nbformat_minor": 2
}
