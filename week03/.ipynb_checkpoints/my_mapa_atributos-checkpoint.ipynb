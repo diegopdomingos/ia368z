{
 "cells": [
  {
   "cell_type": "markdown",
   "metadata": {
    "deletable": true,
    "editable": true
   },
   "source": [
    "# Mapa de atributos, 3 classes Iris, caso 2D"
   ]
  },
  {
   "cell_type": "markdown",
   "metadata": {
    "deletable": true,
    "editable": true
   },
   "source": [
    "Desenvolva aqui o seu exercício de classificação supervisionada usando a base de dados Iris. O que queremos principalmente é a visualização das regiões do classificador no espaço de atributos. Você encontrará a figura que deve ser gerada nos dois notebooks: <a \"href=https://t-adessowiki.fee.unicamp.br/user/lrittner/notebooks/ia368z_2s2017/aluno/week03/Regressao-Logistica-matricial.ipynb\">Regressao-Logistica-matricial.ipynb</a> e <a \"href=https://t-adessowiki.fee.unicamp.br/user/lrittner/notebooks/ia368z_2s2017/aluno/week03/Regressao-Logistica-Keras.ipynb\">Regressao-Logistica-Keras.ipynb</a>. Aproveite para se familiarizar com as duas abordagens. \n",
    "\n",
    "Coloque outras coisas que você acha interessante como exercício didático.\n"
   ]
  },
  {
   "cell_type": "markdown",
   "metadata": {
    "deletable": true,
    "editable": true
   },
   "source": [
    "## Entrega do exercício\n",
    "\n",
    "Coloque o seu código aqui neste notebook como entrega do exercício. **Não altere o nome deste notebook**. \n",
    "\n",
    "Depois de rodar o notebook, salve a visualização gerada como *my_mapa_atributos.png*. Use o trecho do [código abaixo](#figura) para gerar a figura do **tamanho adequado** e com o **nome certo**, para permitir a correção automática. "
   ]
  },
  {
   "cell_type": "markdown",
   "metadata": {
    "deletable": true,
    "editable": true
   },
   "source": [
    "## Visualização do mapa de atributos\n",
    "\n",
    "<a id='figura'></a>\n"
   ]
  },
  {
   "cell_type": "code",
   "execution_count": 65,
   "metadata": {
    "collapsed": false,
    "deletable": true,
    "editable": true
   },
   "outputs": [
    {
     "name": "stderr",
     "output_type": "stream",
     "text": [
      "Using TensorFlow backend.\n"
     ]
    }
   ],
   "source": [
    "import numpy as np\n",
    "import matplotlib.pyplot as plt\n",
    "%matplotlib inline\n",
    "from sklearn.datasets import load_iris\n",
    "\n",
    "import keras\n",
    "from keras.utils import np_utils \n",
    "from keras.models import Sequential \n",
    "from keras.layers import Dense, Activation \n",
    "from keras.optimizers import SGD"
   ]
  },
  {
   "cell_type": "code",
   "execution_count": 68,
   "metadata": {
    "collapsed": false,
    "deletable": true,
    "editable": true,
    "scrolled": true
   },
   "outputs": [
    {
     "data": {
      "image/png": "[encoded data removed]",
      "text/plain": [
       "<matplotlib.figure.Figure at 0x7fdb482b51d0>"
      ]
     },
     "metadata": {},
     "output_type": "display_data"
    },
    {
     "name": "stdout",
     "output_type": "stream",
     "text": [
      "[0 0 0 0 0]\n",
      "[[ 1.  0.  0.]\n",
      " [ 1.  0.  0.]\n",
      " [ 1.  0.  0.]\n",
      " [ 1.  0.  0.]\n",
      " [ 1.  0.  0.]]\n",
      "Final loss: 0.206978295445\n",
      "Bias:\n",
      " [ 7.00967216  1.62754393 -8.63716984]\n",
      "W:\n",
      " [[ -3.02196908   1.76353323   1.25843823]\n",
      " [-14.71227646  -0.67160958  15.38386345]]\n"
     ]
    },
    {
     "ename": "ValueError",
     "evalue": "total size of new array must be unchanged",
     "output_type": "error",
     "traceback": [
      "\u001b[0;31m---------------------------------------------------------------------------\u001b[0m",
      "\u001b[0;31mValueError\u001b[0m                                Traceback (most recent call last)",
      "\u001b[0;32m<ipython-input-68-9198af52a757>\u001b[0m in \u001b[0;36m<module>\u001b[0;34m()\u001b[0m\n\u001b[1;32m     63\u001b[0m \u001b[0;34m\u001b[0m\u001b[0m\n\u001b[1;32m     64\u001b[0m \u001b[0;34m\u001b[0m\u001b[0m\n\u001b[0;32m---> 65\u001b[0;31m \u001b[0mplot_decision_boundary\u001b[0m\u001b[0;34m(\u001b[0m\u001b[0mXc\u001b[0m\u001b[0;34m,\u001b[0m \u001b[0mY_oh\u001b[0m\u001b[0;34m,\u001b[0m \u001b[0mmodel\u001b[0m\u001b[0;34m,\u001b[0m \u001b[0msteps\u001b[0m\u001b[0;34m=\u001b[0m\u001b[0;36m1000\u001b[0m\u001b[0;34m)\u001b[0m\u001b[0;34m\u001b[0m\u001b[0m\n\u001b[0m\u001b[1;32m     66\u001b[0m \u001b[0;34m\u001b[0m\u001b[0m\n\u001b[1;32m     67\u001b[0m \u001b[0;31m# cria a figura do tamanho adequado para a correção automática\u001b[0m\u001b[0;34m\u001b[0m\u001b[0;34m\u001b[0m\u001b[0m\n",
      "\u001b[0;32m<ipython-input-68-9198af52a757>\u001b[0m in \u001b[0;36mplot_decision_boundary\u001b[0;34m(X, y, model, steps, cmap)\u001b[0m\n\u001b[1;32m     51\u001b[0m \u001b[0;34m\u001b[0m\u001b[0m\n\u001b[1;32m     52\u001b[0m     \u001b[0;31m# Plot decision boundary in region of interest\u001b[0m\u001b[0;34m\u001b[0m\u001b[0;34m\u001b[0m\u001b[0m\n\u001b[0;32m---> 53\u001b[0;31m     \u001b[0mz\u001b[0m \u001b[0;34m=\u001b[0m \u001b[0mlabels\u001b[0m\u001b[0;34m.\u001b[0m\u001b[0mreshape\u001b[0m\u001b[0;34m(\u001b[0m\u001b[0mxx\u001b[0m\u001b[0;34m.\u001b[0m\u001b[0mshape\u001b[0m\u001b[0;34m)\u001b[0m\u001b[0;34m\u001b[0m\u001b[0m\n\u001b[0m\u001b[1;32m     54\u001b[0m \u001b[0;34m\u001b[0m\u001b[0m\n\u001b[1;32m     55\u001b[0m     \u001b[0mfig\u001b[0m\u001b[0;34m,\u001b[0m \u001b[0max\u001b[0m \u001b[0;34m=\u001b[0m \u001b[0mplt\u001b[0m\u001b[0;34m.\u001b[0m\u001b[0msubplots\u001b[0m\u001b[0;34m(\u001b[0m\u001b[0;34m)\u001b[0m\u001b[0;34m\u001b[0m\u001b[0m\n",
      "\u001b[0;31mValueError\u001b[0m: total size of new array must be unchanged"
     ]
    }
   ],
   "source": [
    "iris = load_iris()\n",
    "X = iris.data[:,::2]  # comprimento das sépalas e pétalas, indices 0 e 2\n",
    "Xc = X - X.min(axis=0)\n",
    "Xc /= Xc.max(axis=0)\n",
    "\n",
    "Y = iris.target\n",
    "\n",
    "colors = np.array(['r','y','b'])\n",
    "#plt.scatter(Xc[:, 0], Xc[:, 1], c=colors[Y])\n",
    "#plt.xlabel('Sepal length')\n",
    "#plt.ylabel('Sepal width')\n",
    "#plt.show()\n",
    "\n",
    "Y_oh = np_utils.to_categorical(Y, 3) \n",
    "print(Y[0:5])\n",
    "print(Y_oh[0:5])\n",
    "\n",
    "units = n_classes = 3 \n",
    "model = Sequential() \n",
    "model.add(Dense(units, input_dim=2, activation='softmax',kernel_initializer='zero')) \n",
    "\n",
    "sgd = SGD(lr=0.15)\n",
    "model.compile(optimizer=sgd, loss='categorical_crossentropy') \n",
    "\n",
    "n_samples = Xc.shape[0] # number of training examples\n",
    "batch_size = n_samples \n",
    "epochs = 10000\n",
    "history = model.fit(Xc, Y_oh, batch_size=batch_size, epochs=epochs,verbose=0)\n",
    "\n",
    "loss = model.evaluate(Xc, Y_oh, verbose=0)\n",
    "print('Final loss:',loss)\n",
    "\n",
    "W = model.get_weights()\n",
    "print('Bias:\\n', W[1])\n",
    "print('W:\\n', W[0])\n",
    "\n",
    "\n",
    "def plot_decision_boundary(X, y, model, steps=1000, cmap='Paired'):\n",
    "    cmap = plt.get_cmap(cmap)\n",
    "    \n",
    "    # Define region of interest by data limits\n",
    "    xmin, xmax = X[:,0].min() - 1, X[:,0].max() + 1\n",
    "    ymin, ymax = X[:,1].min() - 1, X[:,1].max() + 1\n",
    "\n",
    "    x_span = np.linspace(xmin, xmax, steps)\n",
    "    y_span = np.linspace(ymin, ymax, steps)\n",
    "    xx, yy = np.meshgrid(x_span, y_span)\n",
    "\n",
    "    \n",
    "    # Teste\n",
    "    X_grid = np.array([xx.ravel(), yy.ravel()]).T \n",
    "    X_predict = np.zeros((X_grid.shape[0], dim))\n",
    "    X_predict[:, x_index] = X_grid[:, 0]\n",
    "    X_predict[:, y_index] = X_grid[:, 1]\n",
    "    #Teste-\n",
    "    \n",
    "    Z = clf.predict(X_predict) #Teste\n",
    "    z = Z.reshape(xx.shape)\n",
    "    \n",
    "    # Make predictions across region of interest\n",
    "    #labels = model.predict(np.c_[xx.ravel(), yy.ravel()])\n",
    "\n",
    "    # Plot decision boundary in region of interest\n",
    "    #z = labels.reshape(xx.shape)\n",
    "    \n",
    "    fig, ax = plt.subplots()\n",
    "    ax.contourf(xx, yy, z, cmap=cmap, alpha=0.5)\n",
    "\n",
    "    # Get predicted labels on training data and plot\n",
    "    train_labels = model.predict(X)\n",
    "    ax.scatter(X[:,0], X[:,1], c=y, cmap=cmap, lw=0)\n",
    "    \n",
    "    return fig, ax\n",
    "\n",
    "\n",
    "plot_decision_boundary(Xc, Y_oh, model, steps=1000)\n",
    "\n",
    "# cria a figura do tamanho adequado para a correção automática\n",
    "#fig = plt.figure(figsize=(8,5))\n",
    "\n",
    "#plt.title('Visualizacão do mapa de atributos')\n",
    "#plt.savefig('my_mapa_atributos.png')\n",
    "\n",
    "#WT_history"
   ]
  },
  {
   "cell_type": "code",
   "execution_count": null,
   "metadata": {
    "collapsed": true,
    "deletable": true,
    "editable": true
   },
   "outputs": [],
   "source": []
  }
 ],
 "metadata": {
  "kernelspec": {
   "display_name": "Python 3",
   "language": "python",
   "name": "python3"
  },
  "language_info": {
   "codemirror_mode": {
    "name": "ipython",
    "version": 3
   },
   "file_extension": ".py",
   "mimetype": "text/x-python",
   "name": "python",
   "nbconvert_exporter": "python",
   "pygments_lexer": "ipython3",
   "version": "3.6.0"
  }
 },
 "nbformat": 4,
 "nbformat_minor": 2
}
