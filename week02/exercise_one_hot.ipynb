{
 "cells": [
  {
   "cell_type": "markdown",
   "metadata": {
    "deletable": true,
    "editable": true
   },
   "source": [
    "# Exercício com correção automática: one_hot"
   ]
  },
  {
   "cell_type": "markdown",
   "metadata": {
    "deletable": true,
    "editable": true
   },
   "source": [
    "Neste notebook, você deve colocar uma ou mais soluções para o problema da geração da codificação one_hot, conforme enunciado já feito na semana passada."
   ]
  },
  {
   "cell_type": "markdown",
   "metadata": {
    "deletable": true,
    "editable": true
   },
   "source": [
    "## Enunciado do problema"
   ]
  },
  {
   "cell_type": "markdown",
   "metadata": {
    "deletable": true,
    "editable": true
   },
   "source": [
    "Escrever função one_hot:\n",
    "- entrada: i: vetor a ser codificado, possui uma dimensão, tipo inteiro\n",
    "- saída: matriz de 2 dimensões, uma linha para cada elemento do vetor i e nas colunas, colocar 1 apenas no índice indicado pelo elemento do vetor i associado."
   ]
  },
  {
   "cell_type": "markdown",
   "metadata": {
    "deletable": true,
    "editable": true
   },
   "source": [
    "## Aqui é onde você escreve sua função"
   ]
  },
  {
   "cell_type": "code",
   "execution_count": 1,
   "metadata": {
    "collapsed": true,
    "deletable": true,
    "editable": true
   },
   "outputs": [],
   "source": [
    "# Try to avoid explicit loop as much as possible\n",
    "# Use only NumPy operations, no other libraries\n",
    "import numpy as np\n",
    "def one_hot(i):\n",
    "    oh = np.zeros((i.shape[0],i.max()+1))\n",
    "    oh[np.arange(i.shape[0]),i] = 1\n",
    "    return oh"
   ]
  },
  {
   "cell_type": "markdown",
   "metadata": {
    "deletable": true,
    "editable": true
   },
   "source": [
    "## Aqui é onde você testa sua função"
   ]
  },
  {
   "cell_type": "code",
   "execution_count": 2,
   "metadata": {
    "collapsed": false,
    "deletable": true,
    "editable": true
   },
   "outputs": [
    {
     "name": "stdout",
     "output_type": "stream",
     "text": [
      "\n",
      "Showing results: one_hot\n",
      "--------------------\n",
      "Final score:  100%\n",
      "1 :  [1.0/1.0] => OK\n",
      " - time:  0.16785803  ms\n",
      " - memory:  84.38  Mb\n",
      "2 :  [1.0/1.0] => OK\n",
      " - time:  0.17540797  ms\n",
      " - memory:  84.38  Mb\n",
      "None\n"
     ]
    }
   ],
   "source": [
    "# test\n",
    "from jn_tester.student.test import run_test, submit_test\n",
    "\n",
    "print(run_test('/home/lotufo/ia368z/one_hot', fnc=one_hot))\n"
   ]
  },
  {
   "cell_type": "markdown",
   "metadata": {
    "deletable": true,
    "editable": true
   },
   "source": [
    "## Aqui é onde você submete sua função"
   ]
  },
  {
   "cell_type": "code",
   "execution_count": 3,
   "metadata": {
    "collapsed": false,
    "deletable": true,
    "editable": true
   },
   "outputs": [
    {
     "name": "stdout",
     "output_type": "stream",
     "text": [
      "\n",
      "Showing results: one_hot\n",
      "--------------------\n",
      "Final score:  100%\n"
     ]
    },
    {
     "data": {
      "text/html": [
       "<div>\n",
       "<table border=\"1\" class=\"dataframe\">\n",
       "  <thead>\n",
       "    <tr style=\"text-align: right;\">\n",
       "      <th></th>\n",
       "      <th>Score</th>\n",
       "      <th>Time</th>\n",
       "      <th>Memory</th>\n",
       "    </tr>\n",
       "  </thead>\n",
       "  <tbody>\n",
       "    <tr>\n",
       "      <th>Test 1</th>\n",
       "      <td>100%</td>\n",
       "      <td>0.34289103 ms</td>\n",
       "      <td>84.43 Mb</td>\n",
       "    </tr>\n",
       "    <tr>\n",
       "      <th>Test 2</th>\n",
       "      <td>100%</td>\n",
       "      <td>0.17435703 ms</td>\n",
       "      <td>84.43 Mb</td>\n",
       "    </tr>\n",
       "  </tbody>\n",
       "</table>\n",
       "</div>"
      ],
      "text/plain": [
       "       Score           Time    Memory\n",
       "Test 1  100%  0.34289103 ms  84.43 Mb\n",
       "Test 2  100%  0.17435703 ms  84.43 Mb"
      ]
     },
     "metadata": {},
     "output_type": "display_data"
    }
   ],
   "source": [
    "# envio do código\n",
    "submit_test('/home/lotufo/ia368z/one_hot', fnc=one_hot, presentation_mode='table') "
   ]
  },
  {
   "cell_type": "markdown",
   "metadata": {
    "collapsed": true,
    "deletable": true,
    "editable": true
   },
   "source": [
    "## Aqui é onde você visualiza as submissões feitas pelos colegas"
   ]
  },
  {
   "cell_type": "markdown",
   "metadata": {
    "deletable": true,
    "editable": true
   },
   "source": [
    "https://t-adessowiki.fee.unicamp.br/user/lotufo/notebooks/ia368z_2s2017/lotufo/ia368z/Exercises/week2-RegressaoLinear/results_one_hot.ipynb"
   ]
  },
  {
   "cell_type": "code",
   "execution_count": null,
   "metadata": {
    "collapsed": true,
    "deletable": true,
    "editable": true
   },
   "outputs": [],
   "source": []
  }
 ],
 "metadata": {
  "kernelspec": {
   "display_name": "Python 3",
   "language": "python",
   "name": "python3"
  },
  "language_info": {
   "codemirror_mode": {
    "name": "ipython",
    "version": 3
   },
   "file_extension": ".py",
   "mimetype": "text/x-python",
   "name": "python",
   "nbconvert_exporter": "python",
   "pygments_lexer": "ipython3",
   "version": "3.6.0"
  }
 },
 "nbformat": 4,
 "nbformat_minor": 2
}
